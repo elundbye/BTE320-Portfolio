{
  "nbformat": 4,
  "nbformat_minor": 0,
  "metadata": {
    "colab": {
      "provenance": [],
      "authorship_tag": "ABX9TyNY4Yv7NxU9RXLD5poS73Mt",
      "include_colab_link": true
    },
    "kernelspec": {
      "name": "python3",
      "display_name": "Python 3"
    },
    "language_info": {
      "name": "python"
    }
  },
  "cells": [
    {
      "cell_type": "markdown",
      "metadata": {
        "id": "view-in-github",
        "colab_type": "text"
      },
      "source": [
        "<a href=\"https://colab.research.google.com/github/elundbye/BTE320-Portfolio/blob/main/calculator_2_12.ipynb\" target=\"_parent\"><img src=\"https://colab.research.google.com/assets/colab-badge.svg\" alt=\"Open In Colab\"/></a>"
      ]
    },
    {
      "cell_type": "code",
      "source": [
        "while 1 == 1:\n",
        "  x = float(input('value for x:'))\n",
        "  function = input ('function')\n",
        "  y = float(input('value for y:'))\n",
        "  if function == '+':\n",
        "    print (x + y)\n",
        "  elif function == '-':\n",
        "    print (x - y)\n",
        "  elif function == '*':\n",
        "    print (x * y)\n",
        "  elif function == '/':\n",
        "    print (x / y)\n",
        "  elif function == '//':\n",
        "    print (x // y)\n",
        "  elif function == '%':\n",
        "    print (x % y)\n",
        "\n",
        "\n",
        "\n",
        "\n",
        "\n",
        "\n"
      ],
      "metadata": {
        "id": "2VkR_MY1edWj",
        "colab": {
          "base_uri": "https://localhost:8080/"
        },
        "outputId": "87fc129c-59ed-47eb-ed0c-a4b9f835885a"
      },
      "execution_count": null,
      "outputs": [
        {
          "output_type": "stream",
          "name": "stdout",
          "text": [
            "value for x:5\n",
            "function+\n",
            "value for y:10\n",
            "15.0\n"
          ]
        }
      ]
    }
  ]
}