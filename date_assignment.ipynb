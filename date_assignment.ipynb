{
  "nbformat": 4,
  "nbformat_minor": 0,
  "metadata": {
    "colab": {
      "provenance": [],
      "authorship_tag": "ABX9TyNfw17poUlVkr7UN5YCG1Ys",
      "include_colab_link": true
    },
    "kernelspec": {
      "name": "python3",
      "display_name": "Python 3"
    },
    "language_info": {
      "name": "python"
    }
  },
  "cells": [
    {
      "cell_type": "markdown",
      "metadata": {
        "id": "view-in-github",
        "colab_type": "text"
      },
      "source": [
        "<a href=\"https://colab.research.google.com/github/elundbye/BTE320-Portfolio/blob/main/date_assignment.ipynb\" target=\"_parent\"><img src=\"https://colab.research.google.com/assets/colab-badge.svg\" alt=\"Open In Colab\"/></a>"
      ]
    },
    {
      "cell_type": "code",
      "execution_count": 7,
      "metadata": {
        "colab": {
          "base_uri": "https://localhost:8080/"
        },
        "id": "6uFu0d4aw3uc",
        "outputId": "bc86d348-d4af-42cb-d848-b891a1fc5832"
      },
      "outputs": [
        {
          "output_type": "stream",
          "name": "stdout",
          "text": [
            "enter date: 02/21/2024\n",
            "month: 02\n",
            "day: 21\n",
            "year: 1/2\n"
          ]
        }
      ],
      "source": [
        "s = input(\"enter date: \")\n",
        "\n",
        "month = s[0:2]\n",
        "day = s[3:5]\n",
        "year = s[4:7]\n",
        "\n",
        "print(\"month:\", month)\n",
        "print(\"day:\", day)\n",
        "print(\"year:\", year)"
      ]
    }
  ]
}